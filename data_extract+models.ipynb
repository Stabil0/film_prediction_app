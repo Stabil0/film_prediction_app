{
 "cells": [
  {
   "cell_type": "code",
   "execution_count": 3,
   "id": "2cfbe77b-0f28-4c92-a68a-2d76b968b62f",
   "metadata": {},
   "outputs": [
    {
     "name": "stdout",
     "output_type": "stream",
     "text": [
      "Загружено 25000 тренировочных отзывов и 25000 тестовых отзывов\n"
     ]
    }
   ],
   "source": [
    "import os\n",
    "import numpy as np\n",
    "\n",
    "# Корневая папка\n",
    "root_folder = 'aclImdb'\n",
    "\n",
    "# Функция для загрузки данных и оценок\n",
    "def load_reviews_and_ratings(folder_path):\n",
    "    reviews = []\n",
    "    ratings = []\n",
    "    \n",
    "    # Проход по файлам в папке\n",
    "    for filename in os.listdir(folder_path):\n",
    "        if filename.endswith(\".txt\"):\n",
    "            # Извлекаем оценку из имени файла (например, \"номер файла_оценка фильма.txt\")\n",
    "            rating = int(filename.split('_')[1].split('.')[0])\n",
    "            # Открываем и читаем текст файла\n",
    "            with open(os.path.join(folder_path, filename), 'r', encoding='utf-8') as file:\n",
    "                review = file.read()\n",
    "            \n",
    "            reviews.append(review)\n",
    "            ratings.append(rating)\n",
    "    \n",
    "    return reviews, ratings\n",
    "\n",
    "# Списки для хранения тренировочных и тестовых текстов и оценок\n",
    "train_reviews = []\n",
    "train_ratings = []\n",
    "test_reviews = []\n",
    "test_ratings = []\n",
    "\n",
    "# Загрузка тренировочных данных\n",
    "for label, folder in [('neg', 0), ('pos', 1)]:\n",
    "    folder_path = os.path.join(root_folder, 'train', label)\n",
    "    reviews, ratings = load_reviews_and_ratings(folder_path)\n",
    "    train_reviews.extend(reviews)\n",
    "    train_ratings.extend(ratings)\n",
    "\n",
    "# Загрузка тестовых данных\n",
    "for label, folder in [('neg', 0), ('pos', 1)]:\n",
    "    folder_path = os.path.join(root_folder, 'test', label)\n",
    "    reviews, ratings = load_reviews_and_ratings(folder_path)\n",
    "    test_reviews.extend(reviews)\n",
    "    test_ratings.extend(ratings)\n",
    "\n",
    "# Преобразуем метки в массив NumPy для удобства\n",
    "train_ratings = np.array(train_ratings)\n",
    "test_ratings = np.array(test_ratings)\n",
    "\n",
    "# Проверим, сколько данных загружено\n",
    "print(f\"Загружено {len(train_reviews)} тренировочных отзывов и {len(test_reviews)} тестовых отзывов\")\n"
   ]
  },
  {
   "cell_type": "code",
   "execution_count": 5,
   "id": "78fd148f-aeb6-4a3f-b9be-c9dc28408e13",
   "metadata": {},
   "outputs": [
    {
     "name": "stdout",
     "output_type": "stream",
     "text": [
      "Размерность тренировочных данных: (25000, 5000)\n",
      "Размерность тестовых данных: (25000, 5000)\n"
     ]
    }
   ],
   "source": [
    "from sklearn.feature_extraction.text import TfidfVectorizer\n",
    "\n",
    "# Инициализация TF-IDF векторизатора\n",
    "vectorizer = TfidfVectorizer(ngram_range=(1, 3), max_features=5000)  # Ограничим количество признаков для ускорения\n",
    "\n",
    "# Обучение на тренировочных данных и преобразование их в векторы\n",
    "train_vectors = vectorizer.fit_transform(train_reviews)\n",
    "\n",
    "# Преобразование тестовых данных в векторы (без повторного обучения)\n",
    "test_vectors = vectorizer.transform(test_reviews)\n",
    "\n",
    "# Проверим форму полученных матриц\n",
    "print(f\"Размерность тренировочных данных: {train_vectors.shape}\")\n",
    "print(f\"Размерность тестовых данных: {test_vectors.shape}\")\n"
   ]
  },
  {
   "cell_type": "code",
   "execution_count": 32,
   "id": "ce88b740-af8e-48a4-ad1b-f8def4c17aad",
   "metadata": {},
   "outputs": [
    {
     "name": "stdout",
     "output_type": "stream",
     "text": [
      "Среднеквадратичная ошибка на тестовых данных: 4.6769\n",
      " ошибка на тестовых данных: 1.7309\n"
     ]
    }
   ],
   "source": [
    "from sklearn.svm import SVR\n",
    "from sklearn.metrics import mean_squared_error\n",
    "from sklearn.metrics import mean_absolute_error\n",
    "# Инициализация модели SVM для регрессии\n",
    "svr_model = SVR(kernel='linear')\n",
    "\n",
    "# Обучение модели на векторах\n",
    "train_vectors = vectorizer.fit_transform(train_reviews)\n",
    "svr_model.fit(train_vectors, train_ratings)\n",
    "\n",
    "# Преобразование тестовых данных в векторы\n",
    "test_vectors = vectorizer.transform(test_reviews)\n",
    "\n",
    "# Предсказание оценок на тестовых данных\n",
    "test_predictions = svr_model.predict(test_vectors)\n",
    "\n",
    "# Оценка качества модели\n",
    "mse = mean_squared_error(test_ratings, test_predictions)\n",
    "print(f\"Среднеквадратичная ошибка на тестовых данных: {mse:.4f}\")\n",
    "\n",
    "mae = mean_absolute_error(test_ratings, test_predictions)\n",
    "print(f\"MAE на тестовых данных: {mae:.4f}\")"
   ]
  },
  {
   "cell_type": "code",
   "execution_count": null,
   "id": "2583a699-4a70-4c2d-bf90-193e1ce4e408",
   "metadata": {},
   "outputs": [],
   "source": []
  },
  {
   "cell_type": "code",
   "execution_count": 11,
   "id": "1b910086-a3cf-4054-81ca-da5cfe14fb89",
   "metadata": {},
   "outputs": [
    {
     "name": "stdout",
     "output_type": "stream",
     "text": [
      "Среднеквадратичная ошибка на тестовых данных: 4.6769\n",
      "              precision    recall  f1-score   support\n",
      "\n",
      "           0       0.89      0.88      0.89     12500\n",
      "           1       0.88      0.89      0.89     12500\n",
      "\n",
      "    accuracy                           0.89     25000\n",
      "   macro avg       0.89      0.89      0.89     25000\n",
      "weighted avg       0.89      0.89      0.89     25000\n",
      "\n"
     ]
    }
   ],
   "source": [
    "from sklearn.svm import SVR, SVC\n",
    "from sklearn.linear_model import LogisticRegression\n",
    "from sklearn.metrics import mean_squared_error, classification_report\n",
    "\n",
    "# Инициализация моделей\n",
    "classifier_model = LogisticRegression()  # Модель для классификации\n",
    "\n",
    "# Обучение моделей\n",
    "\n",
    "\n",
    "# Для классификации: делаем метки классов (положительный = 1, отрицательный = 0)\n",
    "train_labels = [1 if rating >= 5 else 0 for rating in train_ratings]\n",
    "classifier_model.fit(train_vectors, train_labels)\n",
    "\n",
    "# Преобразование тестовых данных\n",
    "# Предсказание оценок на тестовых данных (регрессия)\n",
    "test_predictions_ratings = svr_model.predict(test_vectors)\n",
    "\n",
    "# Предсказание категорий на тестовых данных (классификация)\n",
    "test_predictions_labels = classifier_model.predict(test_vectors)\n",
    "\n",
    "# Оценка качества регрессии (предсказание оценок)\n",
    "mse = mean_squared_error(test_ratings, test_predictions_ratings)\n",
    "print(f\"Среднеквадратичная ошибка на тестовых данных: {mse:.4f}\")\n",
    "\n",
    "# Оценка качества классификации (положительный или отрицательный отзыв)\n",
    "test_labels = [1 if rating >= 5 else 0 for rating in test_ratings]\n",
    "print(classification_report(test_labels, test_predictions_labels))"
   ]
  },
  {
   "cell_type": "code",
   "execution_count": 34,
   "id": "0ab48016-ae46-4ed3-8e57-92b00599e76a",
   "metadata": {},
   "outputs": [
    {
     "data": {
      "text/plain": [
       "['classifier_model.pkl']"
      ]
     },
     "execution_count": 34,
     "metadata": {},
     "output_type": "execute_result"
    }
   ],
   "source": []
  },
  {
   "cell_type": "code",
   "execution_count": null,
   "id": "49b707b2-db28-41d4-8d96-71cb930b3bbb",
   "metadata": {},
   "outputs": [],
   "source": []
  }
 ],
 "metadata": {
  "kernelspec": {
   "display_name": "Python 3 (ipykernel)",
   "language": "python",
   "name": "python3"
  },
  "language_info": {
   "codemirror_mode": {
    "name": "ipython",
    "version": 3
   },
   "file_extension": ".py",
   "mimetype": "text/x-python",
   "name": "python",
   "nbconvert_exporter": "python",
   "pygments_lexer": "ipython3",
   "version": "3.11.7"
  }
 },
 "nbformat": 4,
 "nbformat_minor": 5
}
